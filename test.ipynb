{
 "cells": [
  {
   "cell_type": "code",
   "execution_count": 1,
   "metadata": {},
   "outputs": [],
   "source": [
    "import tensorflow as tf"
   ]
  },
  {
   "cell_type": "code",
   "execution_count": 2,
   "metadata": {},
   "outputs": [],
   "source": [
    "from tensorflow.keras.preprocessing import image"
   ]
  },
  {
   "cell_type": "code",
   "execution_count": 3,
   "metadata": {},
   "outputs": [
    {
     "output_type": "stream",
     "name": "stdout",
     "text": "WARNING:tensorflow:Sequential models without an `input_shape` passed to the first layer cannot reload their optimizer state. As a result, your model isstarting with a freshly initialized optimizer.\n"
    }
   ],
   "source": [
    "model = tf.keras.models.load_model('thi_fruits_classify.h5')\n"
   ]
  },
  {
   "cell_type": "code",
   "execution_count": 5,
   "metadata": {},
   "outputs": [],
   "source": [
    "import shutil # copy, move file\n",
    "import os # miscellaneous operation system interfaces\n",
    "import pathlib\n",
    "import random\n",
    "from tensorflow.keras.preprocessing.image import ImageDataGenerator\n",
    "from tensorflow.keras.models import Model\n",
    "from tensorflow.keras.layers import Input, Flatten, Dense, Dropout, GlobalAveragePooling2D\n",
    "from tensorflow.keras.applications.mobilenet import MobileNet, preprocess_input\n",
    "import math\n",
    "import numpy as np\n",
    "import pandas as pd\n",
    "import matplotlib\n",
    "import matplotlib.pyplot as plt\n",
    "import matplotlib.image as mpimg"
   ]
  },
  {
   "cell_type": "code",
   "execution_count": 25,
   "metadata": {},
   "outputs": [
    {
     "output_type": "stream",
     "name": "stdout",
     "text": "0.5853\n62\n"
    }
   ],
   "source": [
    "\n",
    "img_path = './data/test/le.jpg'\n",
    "img = image.load_img(img_path, target_size=(32,32))\n",
    "img_array = image.img_to_array(img)\n",
    "expanded_img_array = np.expand_dims(img_array, axis=0)\n",
    "preprocessed_img = preprocess_input(expanded_img_array) # Preprocess the image\n",
    "prediction = model.predict(preprocessed_img)\n",
    "\n",
    "a = prediction[0].tolist()\n",
    "print(round(max(a),4))\n",
    "print(a.index(max(a)))\n",
    "index = a.index(max(a))"
   ]
  },
  {
   "cell_type": "code",
   "execution_count": 13,
   "metadata": {},
   "outputs": [],
   "source": [
    "class_name = {'Apple Braeburn': 0, 'Apple Crimson Snow': 1, 'Apple Golden 1': 2, 'Apple Golden 2': 3, 'Apple Golden 3': 4, 'Apple Granny Smith': 5, 'Apple Pink Lady': 6, 'Apple Red 1': 7, 'Apple Red 2': 8, 'Apple Red 3': 9, 'Apple Red Delicious': 10, 'Apple Red Yellow 1': 11, 'Apple Red Yellow 2': 12, 'Apricot': 13, 'Avocado': 14, 'Avocado ripe': 15, 'Banana': 16, 'Banana Lady Finger': 17, 'Banana Red': 18, 'Beetroot': 19, 'Blueberry': 20, 'Cactus fruit': 21, 'Cantaloupe 1': 22, 'Cantaloupe 2': 23, 'Carambula': 24, 'Cauliflower': 25, 'Cherry 1': 26, 'Cherry 2': 27, 'Cherry Rainier': 28, 'Cherry Wax Black': 29, 'Cherry Wax Red': 30, 'Cherry Wax Yellow': 31, 'Chestnut': 32, 'Clementine': 33, 'Cocos': 34, 'Dates': 35, 'Eggplant': 36, 'Ginger Root': 37, 'Granadilla': 38, 'Grape Blue': 39, 'Grape Pink': 40, 'Grape White': 41, 'Grape White 2': 42, 'Grape White 3': 43, 'Grape White 4': 44, 'Grapefruit Pink': 45, 'Grapefruit White': 46, 'Guava': 47, 'Hazelnut': 48, 'Huckleberry': 49, 'Kaki': 50, 'Kiwi': 51, 'Kohlrabi': 52, 'Kumquats': 53, 'Lemon': 54, 'Lemon Meyer': 55, 'Limes': 56, 'Lychee': 57, 'Mandarine': 58, 'Mango': 59, 'Mango Red': 60, 'Mangostan': 61, 'Maracuja': 62, 'Melon Piel de Sapo': 63, 'Mulberry': 64, 'Nectarine': 65, 'Nectarine Flat': 66, 'Nut Forest': 67, 'Nut Pecan': 68, 'Onion Red': 69, 'Onion Red Peeled': 70, 'Onion White': 71, 'Orange': 72, 'Papaya': 73, 'Passion Fruit': 74, 'Peach': 75, 'Peach 2': 76, 'Peach Flat': 77, 'Pear': 78, 'Pear Abate': 79, 'Pear Forelle': 80, 'Pear Kaiser': 81, 'Pear Monster': 82, 'Pear Red': 83, 'Pear Williams': 84, 'Pepino': 85, 'Pepper Green': 86, 'Pepper Red': 87, 'Pepper Yellow': 88, 'Physalis': 89, 'Physalis with Husk': 90, 'Pineapple': 91, 'Pineapple Mini': 92, 'Pitahaya Red': 93, 'Plum': 94, 'Plum 2': 95, 'Plum 3': 96, 'Pomegranate': 97, 'Pomelo Sweetie': 98, 'Potato Red': 99, 'Potato Red Washed': 100, 'Potato Sweet': 101, 'Potato White': 102, 'Quince': 103, 'Rambutan': 104, 'Raspberry': 105, 'Redcurrant': 106, 'Salak': 107, 'Strawberry': 108, 'Strawberry Wedge': 109, 'Tamarillo': 110, 'Tangelo': 111, 'Tomato 1': 112, 'Tomato 2': 113, 'Tomato 3': 114, 'Tomato 4': 115, 'Tomato Cherry Red': 116, 'Tomato Maroon': 117, 'Tomato Yellow': 118, 'Walnut': 119}"
   ]
  },
  {
   "cell_type": "code",
   "execution_count": 14,
   "metadata": {},
   "outputs": [
    {
     "output_type": "stream",
     "name": "stdout",
     "text": "{0: 'Apple Braeburn', 1: 'Apple Crimson Snow', 2: 'Apple Golden 1', 3: 'Apple Golden 2', 4: 'Apple Golden 3', 5: 'Apple Granny Smith', 6: 'Apple Pink Lady', 7: 'Apple Red 1', 8: 'Apple Red 2', 9: 'Apple Red 3', 10: 'Apple Red Delicious', 11: 'Apple Red Yellow 1', 12: 'Apple Red Yellow 2', 13: 'Apricot', 14: 'Avocado', 15: 'Avocado ripe', 16: 'Banana', 17: 'Banana Lady Finger', 18: 'Banana Red', 19: 'Beetroot', 20: 'Blueberry', 21: 'Cactus fruit', 22: 'Cantaloupe 1', 23: 'Cantaloupe 2', 24: 'Carambula', 25: 'Cauliflower', 26: 'Cherry 1', 27: 'Cherry 2', 28: 'Cherry Rainier', 29: 'Cherry Wax Black', 30: 'Cherry Wax Red', 31: 'Cherry Wax Yellow', 32: 'Chestnut', 33: 'Clementine', 34: 'Cocos', 35: 'Dates', 36: 'Eggplant', 37: 'Ginger Root', 38: 'Granadilla', 39: 'Grape Blue', 40: 'Grape Pink', 41: 'Grape White', 42: 'Grape White 2', 43: 'Grape White 3', 44: 'Grape White 4', 45: 'Grapefruit Pink', 46: 'Grapefruit White', 47: 'Guava', 48: 'Hazelnut', 49: 'Huckleberry', 50: 'Kaki', 51: 'Kiwi', 52: 'Kohlrabi', 53: 'Kumquats', 54: 'Lemon', 55: 'Lemon Meyer', 56: 'Limes', 57: 'Lychee', 58: 'Mandarine', 59: 'Mango', 60: 'Mango Red', 61: 'Mangostan', 62: 'Maracuja', 63: 'Melon Piel de Sapo', 64: 'Mulberry', 65: 'Nectarine', 66: 'Nectarine Flat', 67: 'Nut Forest', 68: 'Nut Pecan', 69: 'Onion Red', 70: 'Onion Red Peeled', 71: 'Onion White', 72: 'Orange', 73: 'Papaya', 74: 'Passion Fruit', 75: 'Peach', 76: 'Peach 2', 77: 'Peach Flat', 78: 'Pear', 79: 'Pear Abate', 80: 'Pear Forelle', 81: 'Pear Kaiser', 82: 'Pear Monster', 83: 'Pear Red', 84: 'Pear Williams', 85: 'Pepino', 86: 'Pepper Green', 87: 'Pepper Red', 88: 'Pepper Yellow', 89: 'Physalis', 90: 'Physalis with Husk', 91: 'Pineapple', 92: 'Pineapple Mini', 93: 'Pitahaya Red', 94: 'Plum', 95: 'Plum 2', 96: 'Plum 3', 97: 'Pomegranate', 98: 'Pomelo Sweetie', 99: 'Potato Red', 100: 'Potato Red Washed', 101: 'Potato Sweet', 102: 'Potato White', 103: 'Quince', 104: 'Rambutan', 105: 'Raspberry', 106: 'Redcurrant', 107: 'Salak', 108: 'Strawberry', 109: 'Strawberry Wedge', 110: 'Tamarillo', 111: 'Tangelo', 112: 'Tomato 1', 113: 'Tomato 2', 114: 'Tomato 3', 115: 'Tomato 4', 116: 'Tomato Cherry Red', 117: 'Tomato Maroon', 118: 'Tomato Yellow', 119: 'Walnut'}\n"
    }
   ],
   "source": [
    "index_to_label = dict((v,k) for k, v in class_name.items())\n",
    "print(index_to_label)"
   ]
  },
  {
   "cell_type": "code",
   "execution_count": 26,
   "metadata": {},
   "outputs": [
    {
     "output_type": "stream",
     "name": "stdout",
     "text": "Maracuja\n"
    }
   ],
   "source": [
    "name = index_to_label[index].split()\n",
    "print(name[0])"
   ]
  }
 ],
 "metadata": {
  "language_info": {
   "codemirror_mode": {
    "name": "ipython",
    "version": 3
   },
   "file_extension": ".py",
   "mimetype": "text/x-python",
   "name": "python",
   "nbconvert_exporter": "python",
   "pygments_lexer": "ipython3",
   "version": "3.7.7-final"
  },
  "orig_nbformat": 2,
  "kernelspec": {
   "name": "python37764bitthimlconda6543dc9eaa0c473c923113e6f8a832ff",
   "display_name": "Python 3.7.7 64-bit ('thiml': conda)"
  }
 },
 "nbformat": 4,
 "nbformat_minor": 2
}